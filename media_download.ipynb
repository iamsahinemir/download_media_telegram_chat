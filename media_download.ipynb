{
  "nbformat": 4,
  "nbformat_minor": 0,
  "metadata": {
    "colab": {
      "provenance": []
    },
    "kernelspec": {
      "name": "python3",
      "display_name": "Python 3"
    },
    "language_info": {
      "name": "python"
    }
  },
  "cells": [
    {
      "cell_type": "markdown",
      "source": [
        "Upload needed installations"
      ],
      "metadata": {
        "id": "WPtJc_z2XrNk"
      }
    },
    {
      "cell_type": "code",
      "execution_count": null,
      "metadata": {
        "id": "dn7lfz7JXqd0"
      },
      "outputs": [],
      "source": [
        "!pip install telethon\n"
      ]
    },
    {
      "cell_type": "code",
      "source": [
        "!pip install nest_asyncio\n"
      ],
      "metadata": {
        "id": "-HbxWVP5Xv1D"
      },
      "execution_count": null,
      "outputs": []
    },
    {
      "cell_type": "markdown",
      "source": [
        "Download all media from telegram group chat"
      ],
      "metadata": {
        "id": "2694uQolYs1h"
      }
    },
    {
      "cell_type": "code",
      "source": [
        "import os\n",
        "import asyncio\n",
        "import nest_asyncio\n",
        "\n",
        "from telethon import TelegramClient, errors\n",
        "from telethon.sessions import StringSession\n",
        "from telethon.tl.functions.messages import ImportChatInviteRequest\n",
        "\n",
        "# Jupyter’daki mevcut asyncio döngüsünü “sarmak” için\n",
        "nest_asyncio.apply()\n",
        "\n",
        "# 1) API bilgilerin\n",
        "api_id   = your_api_id\n",
        "api_hash = 'your_api_hash'\n",
        "\n",
        "# 2) Davet linki ve içindeki hash\n",
        "invite_link = 'group_invitation_link'\n",
        "invite_hash = invite_link.rsplit('+', 1)[-1]\n",
        "\n",
        "# 3) Medyaların kaydedileceği klasör\n",
        "download_folder = 'downloaded_media'\n",
        "\n",
        "async def main():\n",
        "    # Bellek içi (in-memory) session kullanıyoruz;\n",
        "    # böylece .session dosyası kilitlenmez.\n",
        "    session = StringSession()\n",
        "    client = TelegramClient(session, api_id, api_hash)\n",
        "    await client.start()\n",
        "\n",
        "    # Gruba katılmayı dene (zaten üyeysen UserAlreadyParticipant atla)\n",
        "    try:\n",
        "        await client(ImportChatInviteRequest(invite_hash))\n",
        "        print(\"Gruba katıldık.\")\n",
        "    except errors.UserAlreadyParticipantError:\n",
        "        print(\"Zaten grup üyesisiniz.\")\n",
        "    except Exception as e:\n",
        "        print(\"Katılırken hata:\", e)\n",
        "\n",
        "    # Sohbeti entity olarak almayı dene\n",
        "    entity = None\n",
        "    try:\n",
        "        entity = await client.get_entity(invite_link)\n",
        "        print(\"Entity davet linkiyle alındı:\", getattr(entity, 'title', None))\n",
        "    except Exception:\n",
        "        # Fallback: dialogs içinde hash aranacak\n",
        "        async for dialog in client.iter_dialogs():\n",
        "            name     = dialog.name or ''\n",
        "            username = getattr(dialog.entity, 'username', '') or ''\n",
        "            if invite_hash.lower() in name.lower() or invite_hash.lower() in username.lower():\n",
        "                entity = dialog.entity\n",
        "                print(\"Dialog listesinden bulundu:\", dialog.name)\n",
        "                break\n",
        "\n",
        "    if not entity:\n",
        "        print(\"Sohbet bulunamadı. Dialog’ları kontrol et.\")\n",
        "        await client.disconnect()\n",
        "        return\n",
        "\n",
        "    # İndirilecek medya klasörünü hazırla\n",
        "    os.makedirs(download_folder, exist_ok=True)\n",
        "\n",
        "    # Tüm mesajları tara, medya varsa indir\n",
        "    async for msg in client.iter_messages(entity, limit=None):\n",
        "        if msg.media:\n",
        "            ts    = msg.date.strftime('%Y%m%d_%H%M%S')\n",
        "            fname = f\"{msg.id}_{ts}\"\n",
        "            path  = await client.download_media(msg.media, file=os.path.join(download_folder, fname))\n",
        "            print(\"İndirildi:\", path)\n",
        "\n",
        "    # İstersen bu satırla session string’ini saklayabilirsin:\n",
        "    print(\"Session string (kaydetmek istersen):\", session.save())\n",
        "\n",
        "    await client.disconnect()\n",
        "    print(\"Tamamlandı.\")\n",
        "\n",
        "# Jupyter içindeysen:\n",
        "await main()\n",
        "\n",
        "# Eğer bu kodu standalone .py dosyası olarak çalıştıracaksan:\n",
        "# 1) nest_asyncio.apply() ve await yerine asyncio.run(main()) kullanabilirsin.\n"
      ],
      "metadata": {
        "id": "NK_6q9tOXwW7"
      },
      "execution_count": null,
      "outputs": []
    },
    {
      "cell_type": "markdown",
      "source": [
        "Download all media from normal chat with username or id"
      ],
      "metadata": {
        "id": "fH9HOMfHYwqo"
      }
    },
    {
      "cell_type": "code",
      "source": [
        "import os\n",
        "import asyncio\n",
        "import nest_asyncio\n",
        "\n",
        "from telethon import TelegramClient\n",
        "from telethon.sessions import StringSession\n",
        "\n",
        "# Jupyter’daki mevcut asyncio döngüsünü “sarmak” için\n",
        "nest_asyncio.apply()\n",
        "\n",
        "# 1) API bilgilerin\n",
        "api_id   = YOUR_API_ID\n",
        "api_hash = 'YOUR_API_HASH'\n",
        "\n",
        "# 2) Sohbet için username veya chat ID\n",
        "chat_target = 'telegram_chat_username_or_id'\n",
        "\n",
        "# 3) Medyaların kaydedileceği klasör\n",
        "download_folder = 'downloaded_media'\n",
        "\n",
        "async def main():\n",
        "    # Bellek içi (in-memory) session kullanıyoruz\n",
        "    session = StringSession()\n",
        "    client = TelegramClient(session, api_id, api_hash)\n",
        "    await client.start()\n",
        "\n",
        "    # Sohbet entity'sini al\n",
        "    try:\n",
        "        entity = await client.get_entity(chat_target)\n",
        "        title = getattr(entity, 'title', getattr(entity, 'username', str(entity.id)))\n",
        "        print(f\"Sohbet bulundu: {title}\")\n",
        "    except Exception as e:\n",
        "        print(\"Sohbeti alırken hata:\", e)\n",
        "        await client.disconnect()\n",
        "        return\n",
        "\n",
        "    # İndirilecek medya klasörünü hazırla\n",
        "    os.makedirs(download_folder, exist_ok=True)\n",
        "\n",
        "    # Tüm mesajları tara, medya varsa indir\n",
        "    async for msg in client.iter_messages(entity, limit=None):\n",
        "        if msg.media:\n",
        "            ts    = msg.date.strftime('%Y%m%d_%H%M%S') if msg.date else ''\n",
        "            fname = f\"{msg.id}_{ts}\"\n",
        "            path  = await client.download_media(msg.media, file=os.path.join(download_folder, fname))\n",
        "            print(\"İndirildi:\", path)\n",
        "\n",
        "    # İstersen session string’ini kaydedebilirsin\n",
        "    print(\"Session string (kaydetmek istersen):\", session.save())\n",
        "\n",
        "    await client.disconnect()\n",
        "    print(\"Tamamlandı.\")\n",
        "\n",
        "# ——— Jupyter Notebooks için ———\n",
        "# burayı hücreye yapıştırıp çalıştır:\n",
        "# await main()\n",
        "\n",
        "# ——— Standalone .py dosyası için ———\n",
        "if __name__ == '__main__':\n",
        "    asyncio.run(main())\n"
      ],
      "metadata": {
        "id": "ozTsjtF9Yrmy"
      },
      "execution_count": null,
      "outputs": []
    }
  ]
}